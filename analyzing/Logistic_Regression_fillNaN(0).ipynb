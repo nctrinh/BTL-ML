{
 "cells": [
  {
   "cell_type": "code",
   "execution_count": 1,
   "metadata": {},
   "outputs": [],
   "source": [
    "import pandas as pd\n",
    "from sklearn.linear_model import LogisticRegression\n",
    "from sklearn.model_selection import train_test_split, cross_validate, GridSearchCV\n",
    "from sklearn.preprocessing import StandardScaler\n",
    "import sklearn.metrics as metric\n",
    "from sklearn.metrics import make_scorer, accuracy_score, f1_score, precision_score, recall_score\n",
    "import xgboost as xgb\n",
    "from xgboost import plot_importance\n",
    "import matplotlib.pyplot as plt\n",
    "import random"
   ]
  },
  {
   "cell_type": "code",
   "execution_count": 2,
   "metadata": {},
   "outputs": [],
   "source": [
    "clean_data_file_name = r'..\\preprocessing\\clean_data\\status_per_min_01.csv'"
   ]
  },
  {
   "cell_type": "code",
   "execution_count": 3,
   "metadata": {},
   "outputs": [],
   "source": [
    "df = pd.read_csv(clean_data_file_name)\n",
    "new_df = df.copy()"
   ]
  },
  {
   "cell_type": "code",
   "execution_count": 4,
   "metadata": {},
   "outputs": [],
   "source": [
    "win_rate_columns = df.columns[:20]\n",
    "gold_columns = df.columns[471:512]\n",
    "new_df[win_rate_columns] = StandardScaler().fit_transform(df[win_rate_columns])\n",
    "new_df[gold_columns] = StandardScaler().fit_transform(df[gold_columns])\n",
    "new_df = pd.DataFrame(new_df, columns=df.columns)"
   ]
  },
  {
   "cell_type": "code",
   "execution_count": 5,
   "metadata": {},
   "outputs": [],
   "source": [
    "level_columns_drop = df.columns[20:50]\n",
    "gold_columns_drop = df.columns[471:477]\n",
    "turrets_columns_drop = df.columns[225:273]\n",
    "monstermonster_columns_drop = df.columns[512:562]\n",
    "columns_to_drop = list(level_columns_drop) + list(gold_columns_drop) + list(turrets_columns_drop) + list(monstermonster_columns_drop)\n",
    "new_df = new_df.drop(columns=columns_to_drop)\n",
    "new_df['label'] = new_df['label'].replace(-1, 0)"
   ]
  },
  {
   "cell_type": "code",
   "execution_count": 6,
   "metadata": {},
   "outputs": [],
   "source": [
    "columns_to_drop_01 = [col for col in df.columns if col[-2:] in {'36', '37', '38', '39', '40'}]\n",
    "new_df = new_df.drop(columns=columns_to_drop_01)"
   ]
  },
  {
   "cell_type": "code",
   "execution_count": 7,
   "metadata": {},
   "outputs": [],
   "source": [
    "old_df, new_df = train_test_split(new_df, test_size=0.3, random_state=1)"
   ]
  },
  {
   "cell_type": "code",
   "execution_count": 8,
   "metadata": {},
   "outputs": [],
   "source": [
    "old_X = old_df.drop(columns=['label'])\n",
    "old_Y = old_df['label']\n",
    "new_X = new_df.drop(columns=['label'])\n",
    "new_Y = new_df['label']"
   ]
  },
  {
   "cell_type": "code",
   "execution_count": 9,
   "metadata": {},
   "outputs": [],
   "source": [
    "old_X_training, old_X_test, old_Y_training, old_Y_test = train_test_split(old_X, old_Y, test_size=0.3, random_state=0)"
   ]
  },
  {
   "cell_type": "code",
   "execution_count": 10,
   "metadata": {},
   "outputs": [],
   "source": [
    "lg_regression = LogisticRegression(solver=\"newton-cg\", C = 0.01, penalty='l2').fit(old_X_training, old_Y_training)"
   ]
  },
  {
   "cell_type": "code",
   "execution_count": 11,
   "metadata": {},
   "outputs": [],
   "source": [
    "# param_grid = {\n",
    "#     'C': [0.01, 0.005, 0.015, 0.001],  # Regularization strength\n",
    "#     'solver': ['newton-cg', 'newton-cholesky']\n",
    "# }\n",
    "\n",
    "# grid_search = GridSearchCV(\n",
    "#     estimator=LogisticRegression(),\n",
    "#     param_grid=param_grid,\n",
    "#     scoring='accuracy',  # Chỉ tiêu đánh giá, có thể đổi thành 'f1', 'recall', v.v.\n",
    "#     cv=5,  # Số lượng folds\n",
    "#     verbose=1  # Hiển thị tiến trình\n",
    "# )\n",
    "# grid_search.fit(old_X_training, old_Y_training)\n",
    "# lg_regression = grid_search.best_estimator_\n"
   ]
  },
  {
   "cell_type": "code",
   "execution_count": 12,
   "metadata": {},
   "outputs": [],
   "source": [
    "# grid_search.best_params_"
   ]
  },
  {
   "cell_type": "markdown",
   "metadata": {},
   "source": [
    "### Performance trên old_df"
   ]
  },
  {
   "cell_type": "code",
   "execution_count": 13,
   "metadata": {},
   "outputs": [
    {
     "name": "stdout",
     "output_type": "stream",
     "text": [
      "Train\n",
      "0.9429032870986129\n",
      "Test\n",
      "0.9239804964539007\n"
     ]
    }
   ],
   "source": [
    "# Accuracy\n",
    "print('Train')\n",
    "print(metric.accuracy_score(old_Y_training, lg_regression.predict(old_X_training)))\n",
    "print('Test')\n",
    "print(metric.accuracy_score(old_Y_test, lg_regression.predict(old_X_test)))"
   ]
  },
  {
   "cell_type": "code",
   "execution_count": 14,
   "metadata": {},
   "outputs": [
    {
     "name": "stdout",
     "output_type": "stream",
     "text": [
      "Train\n",
      "0.942952064546749\n",
      "Test\n",
      "0.9250928150251146\n"
     ]
    }
   ],
   "source": [
    "# F1 score\n",
    "print('Train')\n",
    "print(metric.f1_score(old_Y_training, lg_regression.predict(old_X_training), pos_label=1))\n",
    "print('Test')\n",
    "print(metric.f1_score(old_Y_test, lg_regression.predict(old_X_test), pos_label=1))"
   ]
  },
  {
   "cell_type": "code",
   "execution_count": 15,
   "metadata": {},
   "outputs": [
    {
     "name": "stdout",
     "output_type": "stream",
     "text": [
      "Train\n",
      "0.9417899127796738\n",
      "Test\n",
      "0.9269146608315099\n"
     ]
    }
   ],
   "source": [
    "# Precision Score\n",
    "print('Train')\n",
    "print(metric.precision_score(old_Y_training, lg_regression.predict(old_X_training), pos_label=1))\n",
    "print('Test')\n",
    "print(metric.precision_score(old_Y_test, lg_regression.predict(old_X_test), pos_label=1))"
   ]
  },
  {
   "cell_type": "code",
   "execution_count": 16,
   "metadata": {},
   "outputs": [],
   "source": [
    "random_matches = new_df.copy()\n",
    "num_matches = new_df.shape[0]\n",
    "\n",
    "random_minutes = [random.randint(0, 36) for _ in range(num_matches)]\n",
    "random_matches['minute'] = random_minutes\n",
    "\n",
    "def get_data_until_minute(row):\n",
    "    minute = row['minute']\n",
    "    selected_columns = list(random_matches.columns[:20])\n",
    "    for col in new_df.columns:\n",
    "        last_part = col.split('_')[-1]  # Lấy phần cuối của tên cột\n",
    "        if last_part.isdigit() and int(last_part) <= minute:  # Kiểm tra và so sánh\n",
    "            selected_columns.append(col)\n",
    "    selected_columns.append('label')\n",
    "    return row[selected_columns]\n",
    "\n",
    "filtered_data = random_matches.apply(get_data_until_minute, axis=1)\n",
    "filtered_data = filtered_data.reindex(columns=random_matches.columns)\n",
    "\n",
    "X_real_time = filtered_data.drop(columns=[\"label\", \"minute\"])\n",
    "Y_real_time = filtered_data[\"label\"]\n",
    "\n",
    "X_real_time = X_real_time.fillna(0)  \n",
    "Y_real_time = Y_real_time.fillna(0) "
   ]
  },
  {
   "cell_type": "code",
   "execution_count": 17,
   "metadata": {},
   "outputs": [],
   "source": [
    "scoring = {\n",
    "    'accuracy': make_scorer(accuracy_score),\n",
    "    'f1': make_scorer(f1_score),\n",
    "    'precision': make_scorer(precision_score),\n",
    "    'recall': make_scorer(recall_score)\n",
    "}\n",
    "\n",
    "# Thực hiện cross-validation\n",
    "results = cross_validate(\n",
    "    estimator=lg_regression, \n",
    "    X=X_real_time, \n",
    "    y=Y_real_time, \n",
    "    scoring=scoring, \n",
    "    cv=10  # Số lượng folds, có thể thay đổi\n",
    ")"
   ]
  },
  {
   "cell_type": "code",
   "execution_count": 18,
   "metadata": {},
   "outputs": [
    {
     "name": "stdout",
     "output_type": "stream",
     "text": [
      "Test Accuracy: 0.7295594395493283\n",
      "Test Precision: 0.7331013057372556\n",
      "Test Recall: 0.7113931710414063\n",
      "Test F1 Score: 0.7215546278576918\n"
     ]
    }
   ],
   "source": [
    "print('Test Accuracy:', results['test_accuracy'].mean())\n",
    "\n",
    "print('Test Precision:', results['test_precision'].mean())\n",
    "\n",
    "print('Test Recall:', results['test_recall'].mean())\n",
    "\n",
    "print('Test F1 Score:', results['test_f1'].mean())"
   ]
  },
  {
   "cell_type": "code",
   "execution_count": 19,
   "metadata": {},
   "outputs": [],
   "source": [
    "Y_predict = lg_regression.predict(X_real_time)\n",
    "predicted_proba = lg_regression.predict_proba(X_real_time)\n",
    "random_matches['per_red_win'] = predicted_proba[:, 0].round(2) \n",
    "random_matches['per_blue_win'] = predicted_proba[:, 1].round(2) \n",
    "random_matches['predicted_label'] = Y_predict"
   ]
  },
  {
   "cell_type": "code",
   "execution_count": 20,
   "metadata": {},
   "outputs": [],
   "source": [
    "result_predict = random_matches[['per_blue_win', 'per_red_win', 'minute', 'predicted_label', 'label']]"
   ]
  },
  {
   "cell_type": "code",
   "execution_count": 21,
   "metadata": {},
   "outputs": [],
   "source": [
    "result_predict.to_csv(r\"D:\\Learning\\ML\\BTL\\analyzing\\result.csv\")"
   ]
  },
  {
   "cell_type": "code",
   "execution_count": 22,
   "metadata": {},
   "outputs": [
    {
     "data": {
      "text/plain": [
       "842"
      ]
     },
     "execution_count": 22,
     "metadata": {},
     "output_type": "execute_result"
    }
   ],
   "source": [
    "result_predict[(result_predict['minute'] < 10) & (result_predict['predicted_label'] != result_predict['label'])].shape[0]"
   ]
  },
  {
   "cell_type": "code",
   "execution_count": 23,
   "metadata": {},
   "outputs": [
    {
     "data": {
      "text/plain": [
       "1693"
      ]
     },
     "execution_count": 23,
     "metadata": {},
     "output_type": "execute_result"
    }
   ],
   "source": [
    "result_predict[(result_predict['minute'] < 20) & (result_predict['predicted_label'] != result_predict['label'])].shape[0]"
   ]
  },
  {
   "cell_type": "code",
   "execution_count": 24,
   "metadata": {},
   "outputs": [
    {
     "data": {
      "text/plain": [
       "1987"
      ]
     },
     "execution_count": 24,
     "metadata": {},
     "output_type": "execute_result"
    }
   ],
   "source": [
    "result_predict[(result_predict['minute'] < 30) & (result_predict['predicted_label'] != result_predict['label'])].shape[0]"
   ]
  },
  {
   "cell_type": "code",
   "execution_count": 25,
   "metadata": {},
   "outputs": [
    {
     "data": {
      "text/plain": [
       "2068"
      ]
     },
     "execution_count": 25,
     "metadata": {},
     "output_type": "execute_result"
    }
   ],
   "source": [
    "result_predict[(result_predict['minute'] < 36) & (result_predict['predicted_label'] != result_predict['label'])].shape[0]"
   ]
  },
  {
   "cell_type": "code",
   "execution_count": 26,
   "metadata": {},
   "outputs": [],
   "source": [
    "result_predict.to_csv(r\"D:\\Learning\\ML\\BTL\\analyzing\\result.csv\")"
   ]
  }
 ],
 "metadata": {
  "kernelspec": {
   "display_name": "base",
   "language": "python",
   "name": "python3"
  },
  "language_info": {
   "codemirror_mode": {
    "name": "ipython",
    "version": 3
   },
   "file_extension": ".py",
   "mimetype": "text/x-python",
   "name": "python",
   "nbconvert_exporter": "python",
   "pygments_lexer": "ipython3",
   "version": "3.12.2"
  }
 },
 "nbformat": 4,
 "nbformat_minor": 2
}
