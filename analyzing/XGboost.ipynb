{
 "cells": [
  {
   "cell_type": "markdown",
   "metadata": {},
   "source": [
    "## 1. Import thư viện"
   ]
  },
  {
   "cell_type": "code",
   "execution_count": 1,
   "metadata": {},
   "outputs": [],
   "source": [
    "import pandas as pd\n",
    "from sklearn.linear_model import LogisticRegression\n",
    "from sklearn.model_selection import train_test_split, cross_validate, GridSearchCV\n",
    "from sklearn.preprocessing import StandardScaler\n",
    "import sklearn.metrics as metric\n",
    "from sklearn.metrics import make_scorer, accuracy_score, f1_score, precision_score, recall_score\n",
    "import xgboost as xgb\n",
    "from xgboost import plot_importance\n",
    "import matplotlib.pyplot as plt\n",
    "import random"
   ]
  },
  {
   "cell_type": "markdown",
   "metadata": {},
   "source": [
    "## 2. Load dữ liệu<br>\n",
    "(status_per_min_01 là dữ liệu được fillNaN 0)"
   ]
  },
  {
   "cell_type": "code",
   "execution_count": 2,
   "metadata": {},
   "outputs": [],
   "source": [
    "clean_data_file_name = r'..\\preprocessing\\clean_data\\status_per_min_01.csv'"
   ]
  },
  {
   "cell_type": "code",
   "execution_count": 3,
   "metadata": {},
   "outputs": [],
   "source": [
    "df = pd.read_csv(clean_data_file_name)\n",
    "new_df = df.copy()"
   ]
  },
  {
   "cell_type": "markdown",
   "metadata": {},
   "source": [
    "## 3. Chuẩn hóa dữ liệu"
   ]
  },
  {
   "cell_type": "markdown",
   "metadata": {},
   "source": [
    "3.1. Chuẩn hóa cột Chênh lệch vàng, tỷ lệ thắng của người chơi"
   ]
  },
  {
   "cell_type": "code",
   "execution_count": 4,
   "metadata": {},
   "outputs": [],
   "source": [
    "win_rate_columns = df.columns[:20]\n",
    "gold_columns = df.columns[471:512]\n",
    "new_df[win_rate_columns] = StandardScaler().fit_transform(df[win_rate_columns])\n",
    "new_df[gold_columns] = StandardScaler().fit_transform(df[gold_columns])\n",
    "new_df = pd.DataFrame(new_df, columns=df.columns)"
   ]
  },
  {
   "cell_type": "markdown",
   "metadata": {},
   "source": [
    "3.2. Xóa các cột từ phút thứ 0 đến phút thứ 5 vì không mang nhiều ý nghĩa"
   ]
  },
  {
   "cell_type": "code",
   "execution_count": 5,
   "metadata": {},
   "outputs": [],
   "source": [
    "level_columns_drop = df.columns[20:50]\n",
    "gold_columns_drop = df.columns[471:477]\n",
    "turrets_columns_drop = df.columns[225:273]\n",
    "monstermonster_columns_drop = df.columns[512:562]\n",
    "columns_to_drop = list(level_columns_drop) + list(gold_columns_drop) + list(turrets_columns_drop) + list(monstermonster_columns_drop)\n",
    "new_df = new_df.drop(columns=columns_to_drop)\n",
    "new_df['label'] = new_df['label'].replace(-1, 0)"
   ]
  },
  {
   "cell_type": "markdown",
   "metadata": {},
   "source": [
    "3.3. Xóa các cột từ phút thứ 36 đến 40 vì có ít trận kéo dài đến thời điểm đó"
   ]
  },
  {
   "cell_type": "code",
   "execution_count": 6,
   "metadata": {},
   "outputs": [],
   "source": [
    "columns_to_drop_01 = [col for col in df.columns if col[-2:] in {'36', '37', '38', '39', '40'}]\n",
    "new_df = new_df.drop(columns=columns_to_drop_01)"
   ]
  },
  {
   "cell_type": "markdown",
   "metadata": {},
   "source": [
    "3.4. Phân chia dữ liệu, 1 phần dùng để huấn luyện, 1 phần coi như dữ liệu mới hoàn toàn"
   ]
  },
  {
   "cell_type": "code",
   "execution_count": 7,
   "metadata": {},
   "outputs": [],
   "source": [
    "old_df, new_df = train_test_split(new_df, test_size=0.3, random_state=1)"
   ]
  },
  {
   "cell_type": "code",
   "execution_count": 8,
   "metadata": {},
   "outputs": [],
   "source": [
    "old_X = old_df.drop(columns=['label'])\n",
    "old_Y = old_df['label']"
   ]
  },
  {
   "cell_type": "markdown",
   "metadata": {},
   "source": [
    "3.5. Chia dữ liệu huấn luyện theo tỷ lệ 7-3"
   ]
  },
  {
   "cell_type": "code",
   "execution_count": 9,
   "metadata": {},
   "outputs": [],
   "source": [
    "old_X_training, old_X_test, old_Y_training, old_Y_test = train_test_split(old_X, old_Y, test_size=0.3, random_state=0)"
   ]
  },
  {
   "cell_type": "markdown",
   "metadata": {},
   "source": [
    "3.6. Khai báo model với hyperparameter được chọn bằng cách sử dụng 5-fold validation"
   ]
  },
  {
   "cell_type": "code",
   "execution_count": 10,
   "metadata": {},
   "outputs": [],
   "source": [
    "XG_boost = xgb.XGBClassifier(n_estimators = 50, max_depth = 11, learning_rate = 0.3).fit(old_X_training, old_Y_training)"
   ]
  },
  {
   "cell_type": "code",
   "execution_count": 11,
   "metadata": {},
   "outputs": [],
   "source": [
    "# param_grid = {\n",
    "#     'n_estimators': [30, 40, 50],\n",
    "#     'learning_rate': [0.2, 0.3, 0.4],\n",
    "#     'max_depth': [7, 9, 11],\n",
    "# }\n",
    "\n",
    "# grid_search = GridSearchCV(\n",
    "#     estimator=xgb.XGBClassifier(random_state=42),\n",
    "#     param_grid=param_grid,\n",
    "#     cv=5,\n",
    "#     scoring='accuracy',\n",
    "#     verbose=1\n",
    "# ).fit(old_X_training, old_Y_training)\n",
    "# XG_boost = grid_search.best_estimator_"
   ]
  },
  {
   "cell_type": "code",
   "execution_count": 12,
   "metadata": {},
   "outputs": [],
   "source": [
    "# grid_search.best_params_"
   ]
  },
  {
   "cell_type": "markdown",
   "metadata": {},
   "source": [
    "## 4.Performance trên old_df"
   ]
  },
  {
   "cell_type": "code",
   "execution_count": 13,
   "metadata": {},
   "outputs": [
    {
     "name": "stdout",
     "output_type": "stream",
     "text": [
      "Train\n",
      "1.0\n",
      "Test\n",
      "0.9525709219858156\n"
     ]
    }
   ],
   "source": [
    "# Accuracy\n",
    "print('Train')\n",
    "print(metric.accuracy_score(old_Y_training, XG_boost.predict(old_X_training)))\n",
    "print('Test')\n",
    "print(metric.accuracy_score(old_Y_test, XG_boost.predict(old_X_test)))"
   ]
  },
  {
   "cell_type": "code",
   "execution_count": 14,
   "metadata": {},
   "outputs": [
    {
     "name": "stdout",
     "output_type": "stream",
     "text": [
      "Train\n",
      "1.0\n",
      "Test\n",
      "0.9530701754385965\n"
     ]
    }
   ],
   "source": [
    "# F1 score\n",
    "print('Train')\n",
    "print(metric.f1_score(old_Y_training, XG_boost.predict(old_X_training), pos_label=1))\n",
    "print('Test')\n",
    "print(metric.f1_score(old_Y_test, XG_boost.predict(old_X_test), pos_label=1))"
   ]
  },
  {
   "cell_type": "code",
   "execution_count": 15,
   "metadata": {},
   "outputs": [
    {
     "name": "stdout",
     "output_type": "stream",
     "text": [
      "Train\n",
      "1.0\n",
      "Test\n",
      "0.9589585172109444\n"
     ]
    }
   ],
   "source": [
    "# Precision Score\n",
    "print('Train')\n",
    "print(metric.precision_score(old_Y_training, XG_boost.predict(old_X_training), pos_label=1))\n",
    "print('Test')\n",
    "print(metric.precision_score(old_Y_test, XG_boost.predict(old_X_test), pos_label=1))"
   ]
  },
  {
   "cell_type": "markdown",
   "metadata": {},
   "source": [
    "## 5. Performance trên new_dfdf"
   ]
  },
  {
   "cell_type": "markdown",
   "metadata": {},
   "source": [
    "5.1. Tạo phút x ngẫu nhiên cho mỗi trận. Ví dụ x = 15, các giá trị từ phút thứ 0 đến 15 sẽ giữ nguyên, các giá trị từ phút thứ 15 đến 15 sẽ bằng 0"
   ]
  },
  {
   "cell_type": "code",
   "execution_count": 16,
   "metadata": {},
   "outputs": [],
   "source": [
    "random_matches = new_df.copy()\n",
    "num_matches = new_df.shape[0]\n",
    "\n",
    "random_minutes = [random.randint(5, 36) for _ in range(num_matches)]\n",
    "random_matches['minute'] = random_minutes\n",
    "\n",
    "def get_data_until_minute(row):\n",
    "    minute = row['minute']\n",
    "    selected_columns = list(random_matches.columns[:20])\n",
    "    for col in new_df.columns:\n",
    "        last_part = col.split('_')[-1]\n",
    "        if last_part.isdigit() and int(last_part) <= minute:\n",
    "            selected_columns.append(col)\n",
    "    selected_columns.append('label')\n",
    "    return row[selected_columns]\n",
    "\n",
    "filtered_data = random_matches.apply(get_data_until_minute, axis=1)\n",
    "filtered_data = filtered_data.reindex(columns=random_matches.columns)\n",
    "\n",
    "X_real_time = filtered_data.drop(columns=[\"label\", \"minute\"])\n",
    "Y_real_time = filtered_data[\"label\"]\n",
    "\n",
    "X_real_time = X_real_time.fillna(0)  \n",
    "Y_real_time = Y_real_time.fillna(0) "
   ]
  },
  {
   "cell_type": "markdown",
   "metadata": {},
   "source": [
    "5.2. Performance sử dụng cross validation"
   ]
  },
  {
   "cell_type": "code",
   "execution_count": 17,
   "metadata": {},
   "outputs": [],
   "source": [
    "scoring = {\n",
    "    'accuracy': make_scorer(accuracy_score),\n",
    "    'f1': make_scorer(f1_score),\n",
    "    'precision': make_scorer(precision_score),\n",
    "    'recall': make_scorer(recall_score)\n",
    "}\n",
    "\n",
    "results = cross_validate(\n",
    "    estimator=XG_boost, \n",
    "    X=X_real_time, \n",
    "    y=Y_real_time, \n",
    "    scoring=scoring, \n",
    "    cv=10\n",
    ")"
   ]
  },
  {
   "cell_type": "code",
   "execution_count": 18,
   "metadata": {},
   "outputs": [
    {
     "name": "stdout",
     "output_type": "stream",
     "text": [
      "Test Accuracy: 0.7635420578747172\n",
      "Test Precision: 0.764439513149919\n",
      "Test Recall: 0.7520663452572267\n",
      "Test F1 Score: 0.7579066283340137\n"
     ]
    }
   ],
   "source": [
    "# Giá trị trung bình của các metric\n",
    "print('Test Accuracy:', results['test_accuracy'].mean())\n",
    "\n",
    "print('Test Precision:', results['test_precision'].mean())\n",
    "\n",
    "print('Test Recall:', results['test_recall'].mean())\n",
    "\n",
    "print('Test F1 Score:', results['test_f1'].mean())"
   ]
  },
  {
   "cell_type": "markdown",
   "metadata": {},
   "source": [
    "5.3. Dự đoán trên new_df"
   ]
  },
  {
   "cell_type": "code",
   "execution_count": 19,
   "metadata": {},
   "outputs": [],
   "source": [
    "Y_predict = XG_boost.predict(X_real_time)\n",
    "predicted_proba = XG_boost.predict_proba(X_real_time)\n",
    "# Thêm các cột xác suất chọn label\n",
    "random_matches['per_red_win'] = predicted_proba[:, 0].round(2) \n",
    "random_matches['per_blue_win'] = predicted_proba[:, 1].round(2) \n",
    "random_matches['predicted_label'] = Y_predict"
   ]
  },
  {
   "cell_type": "code",
   "execution_count": 20,
   "metadata": {},
   "outputs": [],
   "source": [
    "result_predict = random_matches[['per_blue_win', 'per_red_win', 'minute', 'predicted_label', 'label']]"
   ]
  },
  {
   "cell_type": "markdown",
   "metadata": {},
   "source": [
    "Số trận có x < 10 và bị dự đoán sai"
   ]
  },
  {
   "cell_type": "code",
   "execution_count": 21,
   "metadata": {},
   "outputs": [
    {
     "data": {
      "text/plain": [
       "522"
      ]
     },
     "execution_count": 21,
     "metadata": {},
     "output_type": "execute_result"
    }
   ],
   "source": [
    "result_predict[(result_predict['minute'] < 10) & (result_predict['predicted_label'] != result_predict['label'])].shape[0]"
   ]
  },
  {
   "cell_type": "markdown",
   "metadata": {},
   "source": [
    "Số trận có x < 20 và bị dự đoán sai"
   ]
  },
  {
   "cell_type": "code",
   "execution_count": 22,
   "metadata": {},
   "outputs": [
    {
     "data": {
      "text/plain": [
       "1500"
      ]
     },
     "execution_count": 22,
     "metadata": {},
     "output_type": "execute_result"
    }
   ],
   "source": [
    "result_predict[(result_predict['minute'] < 20) & (result_predict['predicted_label'] != result_predict['label'])].shape[0]"
   ]
  },
  {
   "cell_type": "markdown",
   "metadata": {},
   "source": [
    "Số trận có x < 30 và bị dự đoán sai"
   ]
  },
  {
   "cell_type": "code",
   "execution_count": 23,
   "metadata": {},
   "outputs": [
    {
     "data": {
      "text/plain": [
       "1990"
      ]
     },
     "execution_count": 23,
     "metadata": {},
     "output_type": "execute_result"
    }
   ],
   "source": [
    "result_predict[(result_predict['minute'] < 30) & (result_predict['predicted_label'] != result_predict['label'])].shape[0]"
   ]
  },
  {
   "cell_type": "markdown",
   "metadata": {},
   "source": [
    "Số trận có x <== 35 và bị dự đoán sai"
   ]
  },
  {
   "cell_type": "code",
   "execution_count": 24,
   "metadata": {},
   "outputs": [
    {
     "data": {
      "text/plain": [
       "2051"
      ]
     },
     "execution_count": 24,
     "metadata": {},
     "output_type": "execute_result"
    }
   ],
   "source": [
    "result_predict[(result_predict['minute'] < 36) & (result_predict['predicted_label'] != result_predict['label'])].shape[0]"
   ]
  },
  {
   "cell_type": "code",
   "execution_count": 25,
   "metadata": {},
   "outputs": [],
   "source": [
    "result_predict.to_csv(r\"D:\\Learning\\ML\\BTL\\analyzing\\result.csv\")"
   ]
  }
 ],
 "metadata": {
  "kernelspec": {
   "display_name": "base",
   "language": "python",
   "name": "python3"
  },
  "language_info": {
   "codemirror_mode": {
    "name": "ipython",
    "version": 3
   },
   "file_extension": ".py",
   "mimetype": "text/x-python",
   "name": "python",
   "nbconvert_exporter": "python",
   "pygments_lexer": "ipython3",
   "version": "3.12.2"
  }
 },
 "nbformat": 4,
 "nbformat_minor": 2
}
