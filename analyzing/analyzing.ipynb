{
 "cells": [
  {
   "cell_type": "code",
   "execution_count": null,
   "metadata": {},
   "outputs": [],
   "source": [
    "import pandas as pd\n",
    "from sklearn.linear_model import LogisticRegression\n",
    "from sklearn.model_selection import train_test_split\n",
    "import sklearn.metrics as metric"
   ]
  },
  {
   "cell_type": "code",
   "execution_count": 71,
   "metadata": {},
   "outputs": [],
   "source": [
    "clean_data_file_name = r'..\\preprocessing\\clean_data\\status_per_min.csv'"
   ]
  },
  {
   "cell_type": "code",
   "execution_count": 72,
   "metadata": {},
   "outputs": [],
   "source": [
    "df = pd.read_csv(clean_data_file_name)"
   ]
  },
  {
   "cell_type": "code",
   "execution_count": 73,
   "metadata": {},
   "outputs": [],
   "source": [
    "X = df.drop(columns=[\"label\"])\n",
    "Y = df[\"label\"]\n",
    "X_training, X_test, Y_training, Y_test = train_test_split(X, Y, test_size=0.3, random_state=1)"
   ]
  },
  {
   "cell_type": "code",
   "execution_count": 74,
   "metadata": {},
   "outputs": [
    {
     "name": "stderr",
     "output_type": "stream",
     "text": [
      "c:\\Users\\ASUS\\miniconda3\\Lib\\site-packages\\sklearn\\linear_model\\_sag.py:349: ConvergenceWarning: The max_iter was reached which means the coef_ did not converge\n",
      "  warnings.warn(\n"
     ]
    }
   ],
   "source": [
    "lg_regression = LogisticRegression(solver='saga').fit(X_training, Y_training)"
   ]
  },
  {
   "cell_type": "code",
   "execution_count": 75,
   "metadata": {},
   "outputs": [
    {
     "name": "stdout",
     "output_type": "stream",
     "text": [
      "Train\n",
      "0.9861683734539167\n",
      "Test\n",
      "0.9827773467804499\n"
     ]
    }
   ],
   "source": [
    "# Accuracy\n",
    "print('Train')\n",
    "print(metric.accuracy_score(Y_training, lg_regression.predict(X_training)))\n",
    "print('Test')\n",
    "print(metric.accuracy_score(Y_test, lg_regression.predict(X_test)))"
   ]
  },
  {
   "cell_type": "code",
   "execution_count": 76,
   "metadata": {},
   "outputs": [
    {
     "name": "stdout",
     "output_type": "stream",
     "text": [
      "Train\n",
      "0.9862342819324951\n",
      "Test\n",
      "0.9825718323127649\n"
     ]
    }
   ],
   "source": [
    "# F1 score\n",
    "print('Train')\n",
    "print(metric.f1_score(Y_training, lg_regression.predict(X_training), pos_label=1))\n",
    "print('Test')\n",
    "print(metric.f1_score(Y_test, lg_regression.predict(X_test), pos_label=1))"
   ]
  },
  {
   "cell_type": "code",
   "execution_count": 77,
   "metadata": {},
   "outputs": [
    {
     "name": "stdout",
     "output_type": "stream",
     "text": [
      "Train\n",
      "0.9862342819324951\n",
      "Test\n",
      "0.9793427230046948\n"
     ]
    }
   ],
   "source": [
    "# Precision Score\n",
    "print('Train')\n",
    "print(metric.precision_score(Y_training, lg_regression.predict(X_training), pos_label=1))\n",
    "print('Test')\n",
    "print(metric.precision_score(Y_test, lg_regression.predict(X_test), pos_label=1))"
   ]
  },
  {
   "cell_type": "code",
   "execution_count": null,
   "metadata": {},
   "outputs": [],
   "source": []
  }
 ],
 "metadata": {
  "kernelspec": {
   "display_name": "base",
   "language": "python",
   "name": "python3"
  },
  "language_info": {
   "codemirror_mode": {
    "name": "ipython",
    "version": 3
   },
   "file_extension": ".py",
   "mimetype": "text/x-python",
   "name": "python",
   "nbconvert_exporter": "python",
   "pygments_lexer": "ipython3",
   "version": "3.12.2"
  }
 },
 "nbformat": 4,
 "nbformat_minor": 2
}
