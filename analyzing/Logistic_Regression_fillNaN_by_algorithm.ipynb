{
 "cells": [
  {
   "cell_type": "code",
   "execution_count": 1,
   "metadata": {},
   "outputs": [],
   "source": [
    "import pandas as pd\n",
    "from sklearn.linear_model import LogisticRegression\n",
    "from sklearn.model_selection import train_test_split\n",
    "import sklearn.metrics as metric"
   ]
  },
  {
   "cell_type": "code",
   "execution_count": 2,
   "metadata": {},
   "outputs": [],
   "source": [
    "clean_data_file_name = r'..\\preprocessing\\clean_data\\status_per_min.csv'"
   ]
  },
  {
   "cell_type": "code",
   "execution_count": 3,
   "metadata": {},
   "outputs": [],
   "source": [
    "df = pd.read_csv(clean_data_file_name)"
   ]
  },
  {
   "cell_type": "code",
   "execution_count": 4,
   "metadata": {},
   "outputs": [],
   "source": [
    "X = df.drop(columns=[\"label\"])\n",
    "Y = df[\"label\"]\n",
    "X_training, X_test, Y_training, Y_test = train_test_split(X, Y, test_size=0.3, random_state=1)"
   ]
  },
  {
   "cell_type": "code",
   "execution_count": 5,
   "metadata": {},
   "outputs": [],
   "source": [
    "lg_regression = LogisticRegression(solver='newton-cg').fit(X_training, Y_training)"
   ]
  },
  {
   "cell_type": "code",
   "execution_count": 6,
   "metadata": {},
   "outputs": [
    {
     "name": "stdout",
     "output_type": "stream",
     "text": [
      "Train\n",
      "0.9976060646362548\n",
      "Test\n",
      "0.982467028704422\n"
     ]
    }
   ],
   "source": [
    "# Accuracy\n",
    "print('Train')\n",
    "print(metric.accuracy_score(Y_training, lg_regression.predict(X_training)))\n",
    "print('Test')\n",
    "print(metric.accuracy_score(Y_test, lg_regression.predict(X_test)))"
   ]
  },
  {
   "cell_type": "code",
   "execution_count": 7,
   "metadata": {},
   "outputs": [
    {
     "name": "stdout",
     "output_type": "stream",
     "text": [
      "Train\n",
      "0.997618417570786\n",
      "Test\n",
      "0.9822131276562254\n"
     ]
    }
   ],
   "source": [
    "# F1 score\n",
    "print('Train')\n",
    "print(metric.f1_score(Y_training, lg_regression.predict(X_training), pos_label=1))\n",
    "print('Test')\n",
    "print(metric.f1_score(Y_test, lg_regression.predict(X_test), pos_label=1))"
   ]
  },
  {
   "cell_type": "code",
   "execution_count": 8,
   "metadata": {},
   "outputs": [
    {
     "name": "stdout",
     "output_type": "stream",
     "text": [
      "Train\n",
      "0.9972225896045497\n",
      "Test\n",
      "0.9814407046240956\n"
     ]
    }
   ],
   "source": [
    "# Precision Score\n",
    "print('Train')\n",
    "print(metric.precision_score(Y_training, lg_regression.predict(X_training), pos_label=1))\n",
    "print('Test')\n",
    "print(metric.precision_score(Y_test, lg_regression.predict(X_test), pos_label=1))"
   ]
  },
  {
   "cell_type": "code",
   "execution_count": 9,
   "metadata": {},
   "outputs": [
    {
     "name": "stdout",
     "output_type": "stream",
     "text": [
      "Test Accuracy: 0.41247002398081534\n",
      "Test F1 Score: 0.379746835443038\n",
      "Test Precision: 0.3640776699029126\n"
     ]
    }
   ],
   "source": [
    "import random\n",
    "\n",
    "num_matches = random.randint(0, 1000)\n",
    "random_matches = df.sample(n=num_matches, random_state=1)\n",
    "\n",
    "random_minutes = [random.randint(10, 40) for _ in range(num_matches)]\n",
    "random_matches['minute'] = random_minutes\n",
    "\n",
    "def get_data_until_minute(row):\n",
    "    minute = row['minute']\n",
    "    selected_columns = list(random_matches.columns[:20])\n",
    "    for col in df.columns:\n",
    "        last_part = col.split('_')[-1]  # Lấy phần cuối của tên cột\n",
    "        if last_part.isdigit() and int(last_part) <= minute:  # Kiểm tra và so sánh\n",
    "            selected_columns.append(col)\n",
    "    selected_columns.append('label')\n",
    "    return row[selected_columns]\n",
    "\n",
    "filtered_data = random_matches.apply(get_data_until_minute, axis=1)\n",
    "filtered_data = filtered_data.reindex(columns=random_matches.columns)\n",
    "\n",
    "X_real_time = filtered_data.drop(columns=[\"label\", \"minute\"])\n",
    "Y_real_time = filtered_data[\"label\"]\n",
    "\n",
    "X_real_time = X_real_time.fillna(0)  \n",
    "Y_real_time = Y_real_time.fillna(0) \n",
    "\n",
    "print('Test Accuracy:', metric.accuracy_score(Y_real_time, lg_regression.predict(X_real_time)))\n",
    "\n",
    "print('Test F1 Score:', metric.f1_score(Y_real_time, lg_regression.predict(X_real_time), pos_label=1))\n",
    "\n",
    "print('Test Precision:', metric.precision_score(Y_real_time, lg_regression.predict(X_real_time), pos_label=1))"
   ]
  },
  {
   "cell_type": "code",
   "execution_count": null,
   "metadata": {},
   "outputs": [],
   "source": []
  }
 ],
 "metadata": {
  "kernelspec": {
   "display_name": "base",
   "language": "python",
   "name": "python3"
  },
  "language_info": {
   "codemirror_mode": {
    "name": "ipython",
    "version": 3
   },
   "file_extension": ".py",
   "mimetype": "text/x-python",
   "name": "python",
   "nbconvert_exporter": "python",
   "pygments_lexer": "ipython3",
   "version": "3.12.2"
  }
 },
 "nbformat": 4,
 "nbformat_minor": 2
}
