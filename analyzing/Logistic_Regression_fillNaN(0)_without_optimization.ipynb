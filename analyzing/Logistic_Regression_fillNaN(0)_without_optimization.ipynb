{
 "cells": [
  {
   "cell_type": "markdown",
   "metadata": {},
   "source": [
    "## 1. Import thư viện"
   ]
  },
  {
   "cell_type": "code",
   "execution_count": 116,
   "metadata": {},
   "outputs": [],
   "source": [
    "import pandas as pd\n",
    "from sklearn.linear_model import LogisticRegression\n",
    "from sklearn.model_selection import train_test_split, cross_validate\n",
    "import sklearn.metrics as metric\n",
    "from sklearn.metrics import make_scorer, accuracy_score, f1_score, precision_score, recall_score\n",
    "import matplotlib.pyplot as plt\n",
    "import random"
   ]
  },
  {
   "cell_type": "markdown",
   "metadata": {},
   "source": [
    "## 2. Load dữ liệu<br>\n",
    "(status_per_min_01 là dữ liệu được fillNaN 0)"
   ]
  },
  {
   "cell_type": "code",
   "execution_count": 117,
   "metadata": {},
   "outputs": [],
   "source": [
    "clean_data_file_name = r'..\\preprocessing\\clean_data\\status_per_min_01.csv'"
   ]
  },
  {
   "cell_type": "code",
   "execution_count": 118,
   "metadata": {},
   "outputs": [],
   "source": [
    "df = pd.read_csv(clean_data_file_name)\n",
    "new_df = df.copy()"
   ]
  },
  {
   "cell_type": "markdown",
   "metadata": {},
   "source": [
    "## 3. Chuẩn hóa dữ liệu"
   ]
  },
  {
   "cell_type": "markdown",
   "metadata": {},
   "source": [
    "3.1. <span style=\"color:red\">Không</span> chuẩn hóa cột Chênh lệch vàng, tỷ lệ thắng của người chơi"
   ]
  },
  {
   "cell_type": "code",
   "execution_count": 119,
   "metadata": {},
   "outputs": [],
   "source": [
    "new_df = pd.DataFrame(new_df, columns=df.columns)"
   ]
  },
  {
   "cell_type": "markdown",
   "metadata": {},
   "source": [
    "3.2. Xóa các cột từ phút thứ 0 đến phút thứ 5 vì không mang nhiều ý nghĩa"
   ]
  },
  {
   "cell_type": "code",
   "execution_count": 120,
   "metadata": {},
   "outputs": [],
   "source": [
    "new_df['label'] = new_df['label'].replace(-1, 0)"
   ]
  },
  {
   "cell_type": "markdown",
   "metadata": {},
   "source": [
    "3.3. Xóa các cột từ phút thứ 36 đến 40 vì có ít trận kéo dài đến thời điểm đó"
   ]
  },
  {
   "cell_type": "code",
   "execution_count": 121,
   "metadata": {},
   "outputs": [],
   "source": [
    "columns_to_drop_01 = [col for col in df.columns if col[-2:] in {'36', '37', '38', '39', '40'}]\n",
    "new_df = new_df.drop(columns=columns_to_drop_01)"
   ]
  },
  {
   "cell_type": "markdown",
   "metadata": {},
   "source": [
    "3.4. Phân chia dữ liệu, 1 phần dùng để huấn luyện, 1 phần coi như dữ liệu mới hoàn toàn"
   ]
  },
  {
   "cell_type": "code",
   "execution_count": 122,
   "metadata": {},
   "outputs": [],
   "source": [
    "old_df, new_df = train_test_split(new_df, test_size=0.3)"
   ]
  },
  {
   "cell_type": "code",
   "execution_count": 123,
   "metadata": {},
   "outputs": [],
   "source": [
    "old_X = old_df.drop(columns=['label'])\n",
    "old_Y = old_df['label']"
   ]
  },
  {
   "cell_type": "markdown",
   "metadata": {},
   "source": [
    "3.5. Chia dữ liệu huấn luyện theo tỷ lệ 7-3"
   ]
  },
  {
   "cell_type": "code",
   "execution_count": 124,
   "metadata": {},
   "outputs": [],
   "source": [
    "old_X_training, old_X_test, old_Y_training, old_Y_test = train_test_split(old_X, old_Y, test_size=0.3)"
   ]
  },
  {
   "cell_type": "markdown",
   "metadata": {},
   "source": [
    "3.6. Sử dụng <span style=\"color:red\">model truyền thống</span>"
   ]
  },
  {
   "cell_type": "code",
   "execution_count": 125,
   "metadata": {},
   "outputs": [],
   "source": [
    "lg_regression = LogisticRegression(solver='newton-cholesky').fit(old_X_training, old_Y_training)"
   ]
  },
  {
   "cell_type": "markdown",
   "metadata": {},
   "source": [
    "## 4.Performance trên old_df"
   ]
  },
  {
   "cell_type": "code",
   "execution_count": 126,
   "metadata": {},
   "outputs": [
    {
     "name": "stdout",
     "output_type": "stream",
     "text": [
      "Train\n",
      "0.9486984609538286\n",
      "Test\n",
      "0.9210992907801419\n"
     ]
    }
   ],
   "source": [
    "# Accuracy\n",
    "print('Train')\n",
    "print(metric.accuracy_score(old_Y_training, lg_regression.predict(old_X_training)))\n",
    "print('Test')\n",
    "print(metric.accuracy_score(old_Y_test, lg_regression.predict(old_X_test)))"
   ]
  },
  {
   "cell_type": "code",
   "execution_count": 127,
   "metadata": {},
   "outputs": [
    {
     "name": "stdout",
     "output_type": "stream",
     "text": [
      "Train\n",
      "0.9488054607508533\n",
      "Test\n",
      "0.9192010894235134\n"
     ]
    }
   ],
   "source": [
    "# F1 score\n",
    "print('Train')\n",
    "print(metric.f1_score(old_Y_training, lg_regression.predict(old_X_training), pos_label=1))\n",
    "print('Test')\n",
    "print(metric.f1_score(old_Y_test, lg_regression.predict(old_X_test), pos_label=1))"
   ]
  },
  {
   "cell_type": "code",
   "execution_count": 128,
   "metadata": {},
   "outputs": [
    {
     "name": "stdout",
     "output_type": "stream",
     "text": [
      "Train\n",
      "0.9473684210526315\n",
      "Test\n",
      "0.9158751696065129\n"
     ]
    }
   ],
   "source": [
    "# Precision Score\n",
    "print('Train')\n",
    "print(metric.precision_score(old_Y_training, lg_regression.predict(old_X_training), pos_label=1))\n",
    "print('Test')\n",
    "print(metric.precision_score(old_Y_test, lg_regression.predict(old_X_test), pos_label=1))"
   ]
  },
  {
   "cell_type": "markdown",
   "metadata": {},
   "source": [
    "## 5. Performance trên new_df"
   ]
  },
  {
   "cell_type": "markdown",
   "metadata": {},
   "source": [
    "5.1. Tạo phút x ngẫu nhiên cho mỗi trận. Ví dụ x = 15, các giá trị từ phút thứ 0 đến 15 sẽ giữ nguyên, các giá trị từ phút thứ 15 đến 15 sẽ bằng 0"
   ]
  },
  {
   "cell_type": "code",
   "execution_count": 129,
   "metadata": {},
   "outputs": [],
   "source": [
    "random_matches = new_df.copy()\n",
    "num_matches = new_df.shape[0]\n",
    "\n",
    "random_minutes = [random.randint(5, 36) for _ in range(num_matches)]\n",
    "random_matches['minute'] = random_minutes\n",
    "\n",
    "def get_data_until_minute(row):\n",
    "    minute = row['minute']\n",
    "    selected_columns = list(random_matches.columns[:20])\n",
    "    for col in new_df.columns:\n",
    "        last_part = col.split('_')[-1]\n",
    "        if last_part.isdigit() and int(last_part) <= minute:\n",
    "            selected_columns.append(col)\n",
    "    selected_columns.append('label')\n",
    "    return row[selected_columns]\n",
    "\n",
    "filtered_data = random_matches.apply(get_data_until_minute, axis=1)\n",
    "filtered_data = filtered_data.reindex(columns=random_matches.columns)\n",
    "\n",
    "X_real_time = filtered_data.drop(columns=[\"label\", \"minute\"])\n",
    "Y_real_time = filtered_data[\"label\"]\n",
    "\n",
    "X_real_time = X_real_time.fillna(0)  \n",
    "Y_real_time = Y_real_time.fillna(0) "
   ]
  },
  {
   "cell_type": "markdown",
   "metadata": {},
   "source": [
    "5.2. Performance sử dụng cross validation"
   ]
  },
  {
   "cell_type": "code",
   "execution_count": 130,
   "metadata": {},
   "outputs": [],
   "source": [
    "scoring = {\n",
    "    'accuracy': make_scorer(accuracy_score),\n",
    "    'f1': make_scorer(f1_score),\n",
    "    'precision': make_scorer(precision_score),\n",
    "    'recall': make_scorer(recall_score)\n",
    "}\n",
    "\n",
    "results = cross_validate(\n",
    "    estimator=lg_regression, \n",
    "    X=X_real_time, \n",
    "    y=Y_real_time, \n",
    "    scoring=scoring, \n",
    "    cv=3\n",
    ")"
   ]
  },
  {
   "cell_type": "code",
   "execution_count": 131,
   "metadata": {},
   "outputs": [
    {
     "name": "stdout",
     "output_type": "stream",
     "text": [
      "Test Accuracy: 0.740883912630678\n",
      "Test Precision: 0.7427806825716093\n",
      "Test Recall: 0.7481610657590642\n",
      "Test F1 Score: 0.7453857823300002\n"
     ]
    }
   ],
   "source": [
    "# Giá trị trung bình của các metric\n",
    "print('Test Accuracy:', results['test_accuracy'].mean())\n",
    "\n",
    "print('Test Precision:', results['test_precision'].mean())\n",
    "\n",
    "print('Test Recall:', results['test_recall'].mean())\n",
    "\n",
    "print('Test F1 Score:', results['test_f1'].mean())"
   ]
  },
  {
   "cell_type": "markdown",
   "metadata": {},
   "source": [
    "5.3. Dự đoán trên new_df"
   ]
  },
  {
   "cell_type": "code",
   "execution_count": 132,
   "metadata": {},
   "outputs": [],
   "source": [
    "Y_predict = lg_regression.predict(X_real_time)\n",
    "predicted_proba = lg_regression.predict_proba(X_real_time)\n",
    "# Thêm các cột xác suất chọn label\n",
    "random_matches['per_red_win'] = predicted_proba[:, 0].round(2) \n",
    "random_matches['per_blue_win'] = predicted_proba[:, 1].round(2) \n",
    "random_matches['predicted_label'] = Y_predict"
   ]
  },
  {
   "cell_type": "code",
   "execution_count": 133,
   "metadata": {},
   "outputs": [],
   "source": [
    "result_predict = random_matches[['per_blue_win', 'per_red_win', 'minute', 'predicted_label', 'label']]"
   ]
  },
  {
   "cell_type": "markdown",
   "metadata": {},
   "source": [
    "Số trận có x < 10 và bị dự đoán sai"
   ]
  },
  {
   "cell_type": "code",
   "execution_count": 134,
   "metadata": {},
   "outputs": [
    {
     "data": {
      "text/plain": [
       "508"
      ]
     },
     "execution_count": 134,
     "metadata": {},
     "output_type": "execute_result"
    }
   ],
   "source": [
    "result_predict[(result_predict['minute'] < 10) & (result_predict['predicted_label'] != result_predict['label'])].shape[0]"
   ]
  },
  {
   "cell_type": "markdown",
   "metadata": {},
   "source": [
    "Số trận có x < 20 và bị dự đoán sai"
   ]
  },
  {
   "cell_type": "code",
   "execution_count": 135,
   "metadata": {},
   "outputs": [
    {
     "data": {
      "text/plain": [
       "1566"
      ]
     },
     "execution_count": 135,
     "metadata": {},
     "output_type": "execute_result"
    }
   ],
   "source": [
    "result_predict[(result_predict['minute'] < 20) & (result_predict['predicted_label'] != result_predict['label'])].shape[0]"
   ]
  },
  {
   "cell_type": "markdown",
   "metadata": {},
   "source": [
    "Số trận có x < 30 và bị dự đoán sai"
   ]
  },
  {
   "cell_type": "code",
   "execution_count": 136,
   "metadata": {},
   "outputs": [
    {
     "data": {
      "text/plain": [
       "1981"
      ]
     },
     "execution_count": 136,
     "metadata": {},
     "output_type": "execute_result"
    }
   ],
   "source": [
    "result_predict[(result_predict['minute'] < 30) & (result_predict['predicted_label'] != result_predict['label'])].shape[0]"
   ]
  },
  {
   "cell_type": "markdown",
   "metadata": {},
   "source": [
    "Số trận có x <== 35 và bị dự đoán sai"
   ]
  },
  {
   "cell_type": "code",
   "execution_count": 137,
   "metadata": {},
   "outputs": [
    {
     "data": {
      "text/plain": [
       "2102"
      ]
     },
     "execution_count": 137,
     "metadata": {},
     "output_type": "execute_result"
    }
   ],
   "source": [
    "result_predict[(result_predict['minute'] < 36) & (result_predict['predicted_label'] != result_predict['label'])].shape[0]"
   ]
  },
  {
   "cell_type": "code",
   "execution_count": 138,
   "metadata": {},
   "outputs": [],
   "source": [
    "result_predict.to_csv(r\"D:\\Learning\\ML\\BTL\\analyzing\\result.csv\")"
   ]
  }
 ],
 "metadata": {
  "kernelspec": {
   "display_name": "base",
   "language": "python",
   "name": "python3"
  },
  "language_info": {
   "codemirror_mode": {
    "name": "ipython",
    "version": 3
   },
   "file_extension": ".py",
   "mimetype": "text/x-python",
   "name": "python",
   "nbconvert_exporter": "python",
   "pygments_lexer": "ipython3",
   "version": "3.12.2"
  }
 },
 "nbformat": 4,
 "nbformat_minor": 2
}
