{
 "cells": [
  {
   "cell_type": "code",
   "execution_count": 5,
   "metadata": {},
   "outputs": [],
   "source": [
    "import json\n",
    "import pandas as pd\n",
    "import numpy as np"
   ]
  },
  {
   "cell_type": "code",
   "execution_count": 6,
   "metadata": {},
   "outputs": [],
   "source": [
    "status_file_name = r'D:\\Learning\\ML\\BTL\\preprocessing\\clean_data\\status_per_min.json'"
   ]
  },
  {
   "cell_type": "code",
   "execution_count": 7,
   "metadata": {},
   "outputs": [],
   "source": [
    "df = pd.read_json(status_file_name)"
   ]
  },
  {
   "cell_type": "code",
   "execution_count": 8,
   "metadata": {},
   "outputs": [],
   "source": [
    "# Calculate gold transition matrix\n",
    "gold_columns_to_select = [col for col in df.columns if col.startswith('gold_difference_at_') and int(col.split('_')[-1]) >= 20]\n",
    "df_selected = df[gold_columns_to_select]\n",
    "n_states = 51\n",
    "n_columns = df_selected.shape[1]\n",
    "gold_transition_matrix = np.zeros((n_states, n_states))\n",
    "for i in range(n_columns - 1):\n",
    "        for j in range(df_selected.shape[0]):\n",
    "            # Kiểm tra nếu giá trị tại (j, i) không phải là NaN\n",
    "            if not pd.isna(df_selected.iloc[j, i]) and not pd.isna(df_selected.iloc[j, i + 1]):\n",
    "                current_state = df_selected.iloc[j, i]\n",
    "\n",
    "                next_state = df_selected.iloc[j, i + 1]\n",
    "\n",
    "                # Chuyển đổi giá trị thành chỉ mục hợp lệ (bù 25 để chuyển về giá trị dương)\n",
    "                current_state_bin = int(current_state + 25)  # Bù 25 để giá trị từ -25 đến 25 thành 0 đến 50\n",
    "                next_state_bin = int(next_state + 25)\n",
    "\n",
    "                # Cập nhật ma trận chuyển tiếp\n",
    "                gold_transition_matrix[current_state_bin, next_state_bin] += 1\n",
    "gold_transition_matrix += 1\n",
    "row_sums = gold_transition_matrix.sum(axis=1, keepdims=True)\n",
    "gold_transition_matrix = gold_transition_matrix / row_sums"
   ]
  },
  {
   "cell_type": "code",
   "execution_count": 9,
   "metadata": {},
   "outputs": [],
   "source": [
    "# Fill gold NaN\n",
    "for index, row in df[gold_columns_to_select].iterrows():\n",
    "    for minute in range(20, 41):\n",
    "        col = f\"gold_difference_at_{minute}\"\n",
    "        if pd.isna(row[col]):\n",
    "            # Lấy trạng thái gần nhất\n",
    "            prev_minute = minute - 1\n",
    "            while prev_minute >= 20 and pd.isna(row[f\"gold_difference_at_{prev_minute}\"]):\n",
    "                prev_minute -= 1\n",
    "            \n",
    "            if prev_minute >= 20:\n",
    "                # Trạng thái trước đó\n",
    "                prev_value = row[f\"gold_difference_at_{prev_minute}\"]\n",
    "                \n",
    "                # Chọn trạng thái tiếp theo dựa trên ma trận chuyển tiếp\n",
    "                probabilities = gold_transition_matrix[int(prev_value)]\n",
    "                df.at[index, col] = np.random.choice(len(probabilities), p=probabilities)\n",
    "            else:\n",
    "                break"
   ]
  },
  {
   "cell_type": "code",
   "execution_count": 10,
   "metadata": {},
   "outputs": [],
   "source": [
    "# Fild level NaN\n",
    "roles = [\"TOP\", \"JUNGLE\", \"MID\", \"BOT\", \"SUPPORT\"]\n",
    "level_columns_to_select = [col for col in df.columns if col.startswith('level_difference_') and int(col.split('_')[-1]) >= 20]\n",
    "for role in roles:\n",
    "        for minute in range(21, 41):\n",
    "            col = f\"level_difference_{role}_at_{minute}\"\n",
    "            prev_col = f\"level_difference_{role}_at_{minute - 1}\"\n",
    "            # Nếu cột hiện tại có NaN, điền giá trị từ phút trước\n",
    "            df[col] = df[col].fillna(df[prev_col])"
   ]
  },
  {
   "cell_type": "code",
   "execution_count": 11,
   "metadata": {},
   "outputs": [],
   "source": [
    "# Fill turret diff\n",
    "teams = [\"blue\", \"red\"]\n",
    "lanes = [\"MID_LANE\", \"TOP_LANE\", \"BOT_LANE\"]\n",
    "for minute in range(20, 41):\n",
    "        for team in teams:\n",
    "            for lane in lanes:\n",
    "                col = f\"{team}_{lane}_TURRETS_at_{minute}\"\n",
    "                # Xác định tên cột phút trước (minute - 1)\n",
    "                prev_col = col.replace(f\"at_{minute}\", f\"at_{minute - 1}\")\n",
    "                \n",
    "                # Nếu giá trị ở phút x là NaN, điền giá trị từ phút trước (minute - 1)\n",
    "                df[col] = df[col].fillna(df[prev_col])"
   ]
  },
  {
   "cell_type": "code",
   "execution_count": 12,
   "metadata": {},
   "outputs": [],
   "source": [
    "# Fill monster diff\n",
    "elite_monsters = [\"HORDE\", \"RIFTHERALD\", \"FIRE_DRAGON\", \"WATER_DRAGON\", \"EARTH_DRAGON\", \n",
    "                 \"AIR_DRAGON\", \"CHEMTECH_DRAGON\", \"HEXTECH_DRAGON\", \"ELDER_DRAGON\", \"BARON_NASHOR\"]\n",
    "teams = [\"blue\", \"red\"]\n",
    "for minute in range(20, 41):\n",
    "    for elite_monster in elite_monsters:\n",
    "        col = f\"{elite_monster}_diff_at_{minute}\"\n",
    "        prev_col = col.replace(f\"at_{minute}\", f\"at_{minute - 1}\")\n",
    "        df[col] = df[col].fillna(df[prev_col].astype(int))"
   ]
  },
  {
   "cell_type": "code",
   "execution_count": 13,
   "metadata": {},
   "outputs": [],
   "source": [
    "df.to_csv(r'D:\\Learning\\ML\\BTL\\preprocessing\\clean_data\\status_per_min.csv', index=False, encoding='utf-8')"
   ]
  },
  {
   "cell_type": "code",
   "execution_count": null,
   "metadata": {},
   "outputs": [],
   "source": []
  }
 ],
 "metadata": {
  "kernelspec": {
   "display_name": "base",
   "language": "python",
   "name": "python3"
  },
  "language_info": {
   "codemirror_mode": {
    "name": "ipython",
    "version": 3
   },
   "file_extension": ".py",
   "mimetype": "text/x-python",
   "name": "python",
   "nbconvert_exporter": "python",
   "pygments_lexer": "ipython3",
   "version": "3.12.2"
  }
 },
 "nbformat": 4,
 "nbformat_minor": 2
}
